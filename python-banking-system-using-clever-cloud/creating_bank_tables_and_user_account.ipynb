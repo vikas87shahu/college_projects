{
 "cells": [
  {
   "cell_type": "code",
   "execution_count": 1,
   "id": "f3e0b9cb",
   "metadata": {},
   "outputs": [],
   "source": [
    "import mysql.connector"
   ]
  },
  {
   "cell_type": "code",
   "execution_count": 99,
   "id": "1dc2061c",
   "metadata": {},
   "outputs": [],
   "source": [
    "mydb1 = mysql.connector.connect(\n",
    "host = \"byjswena0s99ise1usfy-mysql.services.clever-cloud.com\",\n",
    "user = \"upqvs3wbh9koczin\",\n",
    "password = \"2T8F4SsnxHhfjphLh22W\",\n",
    "database = \"byjswena0s99ise1usfy\"\n",
    ")"
   ]
  },
  {
   "cell_type": "code",
   "execution_count": 100,
   "id": "1039d800",
   "metadata": {},
   "outputs": [],
   "source": [
    "mycursor1 = mydb1.cursor()"
   ]
  },
  {
   "cell_type": "code",
   "execution_count": 4,
   "id": "7c2df330",
   "metadata": {},
   "outputs": [
    {
     "name": "stdout",
     "output_type": "stream",
     "text": [
      "('creditcards',)\n",
      "('paymentlog',)\n"
     ]
    }
   ],
   "source": [
    "mycursor1.execute(\"SHOW TABLES\")\n",
    "for table in mycursor1:\n",
    "    print(table)"
   ]
  },
  {
   "cell_type": "code",
   "execution_count": 5,
   "id": "201f2558",
   "metadata": {},
   "outputs": [
    {
     "name": "stdout",
     "output_type": "stream",
     "text": [
      "('cardno', b'varchar(16)', 'NO', 'PRI', None, '')\n",
      "('pin', b'int', 'YES', '', None, '')\n",
      "('custnm', b'varchar(100)', 'YES', '', None, '')\n",
      "('mappedaccno', b'int', 'YES', '', None, '')\n",
      "('bankcode', b'varchar(10)', 'YES', '', None, '')\n",
      "('limit_bal', b'float', 'YES', '', None, '')\n"
     ]
    }
   ],
   "source": [
    "mycursor1.execute(\"describe creditcards\")\n",
    "for table in mycursor1:\n",
    "    print(table)"
   ]
  },
  {
   "cell_type": "code",
   "execution_count": 6,
   "id": "df9dd1e0",
   "metadata": {},
   "outputs": [
    {
     "name": "stdout",
     "output_type": "stream",
     "text": [
      "('transno', b'int', 'NO', 'PRI', None, 'auto_increment')\n",
      "('cardno', b'varchar(16)', 'YES', '', None, '')\n",
      "('transdt', b'datetime', 'YES', '', None, '')\n",
      "('purpose', b'varchar(50)', 'YES', '', None, '')\n",
      "('paymentamount', b'float', 'YES', '', None, '')\n",
      "('transstatus', b'varchar(10)', 'YES', '', b'success', '')\n"
     ]
    }
   ],
   "source": [
    "mycursor1.execute(\"describe paymentlog\")\n",
    "for table in mycursor1:\n",
    "    print(table)"
   ]
  },
  {
   "cell_type": "code",
   "execution_count": 88,
   "id": "6ca58900",
   "metadata": {},
   "outputs": [],
   "source": [
    "#for database2\n",
    "mydb2 = mysql.connector.connect(\n",
    "host = \"byz19nyssb8zeazrb181-mysql.services.clever-cloud.com\",\n",
    "user = \"uf1dkuns8obh9mjm\",\n",
    "password = \"AuIS6JIebDMnPCRsSoGx\",\n",
    "database = \"byz19nyssb8zeazrb181\"\n",
    ")"
   ]
  },
  {
   "cell_type": "code",
   "execution_count": 89,
   "id": "e928c714",
   "metadata": {},
   "outputs": [],
   "source": [
    "mycursor2 = mydb2.cursor()"
   ]
  },
  {
   "cell_type": "code",
   "execution_count": 17,
   "id": "d0e39bec",
   "metadata": {},
   "outputs": [
    {
     "name": "stdout",
     "output_type": "stream",
     "text": [
      "('cardtranslog',)\n",
      "('citibank',)\n",
      "('scbank',)\n"
     ]
    }
   ],
   "source": [
    "mycursor2.execute(\"SHOW TABLES\")\n",
    "for table in mycursor2:\n",
    "    print(table)"
   ]
  },
  {
   "cell_type": "code",
   "execution_count": 18,
   "id": "351e9a56",
   "metadata": {},
   "outputs": [
    {
     "name": "stdout",
     "output_type": "stream",
     "text": [
      "('transno', b'int(11)', 'NO', 'PRI', None, 'auto_increment')\n",
      "('transdt', b'datetime', 'YES', '', None, '')\n",
      "('accno', b'int(11)', 'YES', '', None, '')\n",
      "('amount', b'float', 'YES', '', None, '')\n"
     ]
    }
   ],
   "source": [
    "mycursor2.execute(\"describe cardtranslog\")\n",
    "for table in mycursor2:\n",
    "    print(table)"
   ]
  },
  {
   "cell_type": "code",
   "execution_count": 19,
   "id": "34c7fcb7",
   "metadata": {},
   "outputs": [
    {
     "name": "stdout",
     "output_type": "stream",
     "text": [
      "('accno', b'int(11)', 'NO', 'PRI', None, '')\n",
      "('accnm', b'varchar(100)', 'YES', '', None, '')\n",
      "('acctype', b'varchar(15)', 'YES', '', b'saving', '')\n",
      "('balance', b'float', 'YES', '', None, '')\n",
      "('mobile', b'varchar(15)', 'YES', '', None, '')\n"
     ]
    }
   ],
   "source": [
    "mycursor2.execute(\"describe citibank\")\n",
    "for table in mycursor2:\n",
    "    print(table)"
   ]
  },
  {
   "cell_type": "code",
   "execution_count": 20,
   "id": "61be29c7",
   "metadata": {},
   "outputs": [
    {
     "name": "stdout",
     "output_type": "stream",
     "text": [
      "('accno', b'int(11)', 'NO', 'PRI', None, '')\n",
      "('accnm', b'varchar(100)', 'YES', '', None, '')\n",
      "('acctype', b'varchar(15)', 'YES', '', b'saving', '')\n",
      "('balance', b'float', 'YES', '', None, '')\n",
      "('mobile', b'varchar(15)', 'YES', '', None, '')\n"
     ]
    }
   ],
   "source": [
    "mycursor2.execute(\"describe scbank\")\n",
    "for table in mycursor2:\n",
    "    print(table)"
   ]
  },
  {
   "cell_type": "code",
   "execution_count": 71,
   "id": "879bd8e6",
   "metadata": {},
   "outputs": [],
   "source": [
    "#inserting new user into citibank \n",
    "sql = \"INSERT INTO citibank (accno,accnm,acctype,balance,mobile) VALUES (%s,%s,%s,%s,%s)\""
   ]
  },
  {
   "cell_type": "code",
   "execution_count": 72,
   "id": "389b4657",
   "metadata": {},
   "outputs": [],
   "source": [
    "\n",
    "val = [(1011,\"steven\",\"saving\",1500,1023456789)]"
   ]
  },
  {
   "cell_type": "code",
   "execution_count": 73,
   "id": "231739a6",
   "metadata": {},
   "outputs": [],
   "source": [
    "mycursor2.executemany(sql,val)"
   ]
  },
  {
   "cell_type": "code",
   "execution_count": 74,
   "id": "dcff7a45",
   "metadata": {},
   "outputs": [],
   "source": [
    "mydb2.commit()"
   ]
  },
  {
   "cell_type": "code",
   "execution_count": 75,
   "id": "3b7a203d",
   "metadata": {},
   "outputs": [
    {
     "name": "stdout",
     "output_type": "stream",
     "text": [
      "(1011, 'steven', 'saving', 1500.0, '1023456789')\n"
     ]
    }
   ],
   "source": [
    "#checking whether user is created or not\n",
    "mycursor2.execute(\"select * from citibank\")\n",
    "for row in mycursor2:\n",
    "    print(row)"
   ]
  },
  {
   "cell_type": "code",
   "execution_count": 81,
   "id": "e4e8d2d0",
   "metadata": {},
   "outputs": [],
   "source": [
    "#inserting new credit card into creditcards of database1\n",
    "sql = \"INSERT INTO creditcards (cardno,pin,custnm,mappedaccno,bankcode,limit_bal) VALUES (%s,%s,%s,%s,%s,%s)\""
   ]
  },
  {
   "cell_type": "code",
   "execution_count": 82,
   "id": "0a4672e5",
   "metadata": {},
   "outputs": [],
   "source": [
    "\n",
    "val = [(589938612,6434,\"steven\",1011,\"CITI11\",20000)]"
   ]
  },
  {
   "cell_type": "code",
   "execution_count": 83,
   "id": "a5015cc3",
   "metadata": {},
   "outputs": [],
   "source": [
    "mycursor1.executemany(sql,val)"
   ]
  },
  {
   "cell_type": "code",
   "execution_count": 85,
   "id": "693a7f78",
   "metadata": {},
   "outputs": [],
   "source": [
    "mydb1.commit()"
   ]
  },
  {
   "cell_type": "code",
   "execution_count": 84,
   "id": "fb49aade",
   "metadata": {},
   "outputs": [
    {
     "name": "stdout",
     "output_type": "stream",
     "text": [
      "('589938612', 6434, 'steven', 1011, 'CITI11', 20000.0)\n"
     ]
    }
   ],
   "source": [
    "#checking whether card is created or not\n",
    "mycursor1.execute(\"select * from creditcards\")\n",
    "for row in mycursor1:\n",
    "    print(row)"
   ]
  },
  {
   "cell_type": "code",
   "execution_count": 90,
   "id": "f723a019",
   "metadata": {},
   "outputs": [],
   "source": [
    "#inserting new user into citibank \n",
    "sql = \"INSERT INTO scbank (accno,accnm,acctype,balance,mobile) VALUES (%s,%s,%s,%s,%s)\""
   ]
  },
  {
   "cell_type": "code",
   "execution_count": 91,
   "id": "efa3dbb4",
   "metadata": {},
   "outputs": [],
   "source": [
    "\n",
    "val = [(1045,\"steven\",\"saving\",1500,1023456789)]"
   ]
  },
  {
   "cell_type": "code",
   "execution_count": 93,
   "id": "614951f6",
   "metadata": {},
   "outputs": [],
   "source": [
    "mycursor2.executemany(sql,val)"
   ]
  },
  {
   "cell_type": "code",
   "execution_count": 95,
   "id": "efc02324",
   "metadata": {},
   "outputs": [],
   "source": [
    "mydb2.commit()"
   ]
  },
  {
   "cell_type": "code",
   "execution_count": 96,
   "id": "7f1edd7e",
   "metadata": {},
   "outputs": [
    {
     "name": "stdout",
     "output_type": "stream",
     "text": [
      "(1045, 'steven', 'saving', 1500.0, '1023456789')\n"
     ]
    }
   ],
   "source": [
    "#checking wheather user is created or not\n",
    "mycursor2.execute(\"select * from scbank\")\n",
    "for row in mycursor2:\n",
    "    print(row)"
   ]
  },
  {
   "cell_type": "code",
   "execution_count": 101,
   "id": "fd2afc4a",
   "metadata": {},
   "outputs": [],
   "source": [
    "#inserting new credit card into scbank of database1\n",
    "sql = \"INSERT INTO creditcards (cardno,pin,custnm,mappedaccno,bankcode,limit_bal) VALUES (%s,%s,%s,%s,%s,%s)\""
   ]
  },
  {
   "cell_type": "code",
   "execution_count": 102,
   "id": "6435a107",
   "metadata": {},
   "outputs": [],
   "source": [
    "\n",
    "val = [(589938613,6634,\"steven\",1045,\"SCBANK11\",20000)]"
   ]
  },
  {
   "cell_type": "code",
   "execution_count": 103,
   "id": "a7ecbec5",
   "metadata": {},
   "outputs": [],
   "source": [
    "mycursor1.executemany(sql,val)"
   ]
  },
  {
   "cell_type": "code",
   "execution_count": 105,
   "id": "5a4e28cd",
   "metadata": {},
   "outputs": [],
   "source": [
    "mydb1.commit()"
   ]
  },
  {
   "cell_type": "code",
   "execution_count": 106,
   "id": "c957d567",
   "metadata": {},
   "outputs": [
    {
     "name": "stdout",
     "output_type": "stream",
     "text": [
      "('589938612', 6434, 'steven', 1011, 'CITI11', 20000.0)\n",
      "('589938613', 6634, 'steven', 1045, 'SCBANK11', 20000.0)\n"
     ]
    }
   ],
   "source": [
    "#checking whether card is created or not\n",
    "mycursor1.execute(\"select * from creditcards\")\n",
    "for row in mycursor1:\n",
    "    print(row)"
   ]
  },
  {
   "cell_type": "code",
   "execution_count": 107,
   "id": "91c70b38",
   "metadata": {},
   "outputs": [],
   "source": [
    "def mydbconnection2():\n",
    "    mydb2 = mysql.connector.connect(\n",
    "    host = \"byz19nyssb8zeazrb181-mysql.services.clever-cloud.com\",\n",
    "    user = \"uf1dkuns8obh9mjm\",\n",
    "    password = \"AuIS6JIebDMnPCRsSoGx\",\n",
    "    database = \"byz19nyssb8zeazrb181\"\n",
    "    )\n",
    "    return mydb2"
   ]
  },
  {
   "cell_type": "code",
   "execution_count": 108,
   "id": "d08f5492",
   "metadata": {},
   "outputs": [],
   "source": [
    "def mydbconnection1():\n",
    "    mydb1 = mysql.connector.connect(\n",
    "    host = \"byjswena0s99ise1usfy-mysql.services.clever-cloud.com\",\n",
    "    user = \"upqvs3wbh9koczin\",\n",
    "    password = \"2T8F4SsnxHhfjphLh22W\",\n",
    "    database = \"byjswena0s99ise1usfy\"\n",
    "    )\n",
    "    return mydb1"
   ]
  },
  {
   "cell_type": "code",
   "execution_count": null,
   "id": "a0bbda36",
   "metadata": {},
   "outputs": [],
   "source": [
    "print(\"enter the creditcardno. number\")\n",
    "credit_no = int(input())"
   ]
  },
  {
   "cell_type": "code",
   "execution_count": null,
   "id": "3e2cf673",
   "metadata": {},
   "outputs": [],
   "source": [
    "mycursor1.execute(\"select cardno,mappedaccno from creditcards \")\n",
    "flag = 0\n",
    "accno = 0\n",
    "for row in mycursor1:\n",
    "    if int(row[0]) == credit_no:\n",
    "        print(\"{} is exists\".format(credit_no))\n",
    "        accno = row[1]\n",
    "        print(\"account number is {}\".format(accno))\n",
    "        flag = 1\n",
    "if flag == 0:\n",
    "    print(\"{} is does not exists\".format(credit_no))"
   ]
  },
  {
   "cell_type": "code",
   "execution_count": null,
   "id": "352a23d3",
   "metadata": {},
   "outputs": [],
   "source": [
    "def deposite(credit_no,bankname,account_no):\n",
    "    print(\"enter amount :\")\n",
    "    amount = int(input())\n",
    "    sql = \"UPDATE {} SET balance = %s+balance WHERE accno = %s\".format(bankname)\n",
    "    val = (amount,account_no)\n",
    "    temp_cursor.execute(sql, val)\n",
    "    now = datetime.now()\n",
    "    formatted_date = now.strftime('%Y-%m-%d %H:%M:%S')\n",
    "    print(formatted_date)\n",
    "    temp_cursor.execute(\"insert into cardtranslog(transdt,accno,amount) values(%s,%s,%s)\",(formatted_date,account_no,amount))\n",
    "    temp_mydb2.commit()\n",
    "    print(\"Deposited successfully\")\n",
    "    tempdb1 = mydbconnection1()\n",
    "    temp_cursor1 = tempdb1.cursor()\n",
    "    temp_cursor1.execute(\"insert into paymentlog(cardno,transdt,purpose,paymentamount) values(%s,%s,%s,%s)\",(credit_no,formatted_date,\"transfer\",amount))\n",
    "    tempdb1.commit()"
   ]
  },
  {
   "cell_type": "code",
   "execution_count": null,
   "id": "223cec9f",
   "metadata": {},
   "outputs": [],
   "source": [
    "if flag ==1:\n",
    "    print(\"enter the pin\")\n",
    "    pin = int(input())\n",
    "    mycursor1.execute(\"select pin from creditcards where cardno = {}\".format(credit_no))\n",
    "    for row in mycursor1:\n",
    "        if row[0] ==pin :\n",
    "            \n",
    "            temp_mydb2 = mydbconnection2()\n",
    "            temp_cursor = temp_mydb2.cursor()\n",
    "            found=0\n",
    "            temp_cursor.execute(\"select accno from citibank\")\n",
    "            for tup in temp_cursor:\n",
    "                if tup[0] == accno:\n",
    "                    found = 1\n",
    "                    deposite(credit_no,\"citibank\",accno)\n",
    "            if found == 0:\n",
    "                temp_cursor.execute(\"select accno from scbank\")\n",
    "                for tup in temp_cursor:\n",
    "                    if tup[0] == accno:\n",
    "                        found = 1\n",
    "                        deposite(credit_no,\"scbank\",accno)\n",
    "            if found==0 :\n",
    "                print(\"coundn't found account number\")"
   ]
  }
 ],
 "metadata": {
  "kernelspec": {
   "display_name": "Python 3 (ipykernel)",
   "language": "python",
   "name": "python3"
  },
  "language_info": {
   "codemirror_mode": {
    "name": "ipython",
    "version": 3
   },
   "file_extension": ".py",
   "mimetype": "text/x-python",
   "name": "python",
   "nbconvert_exporter": "python",
   "pygments_lexer": "ipython3",
   "version": "3.9.7"
  }
 },
 "nbformat": 4,
 "nbformat_minor": 5
}
