{
 "cells": [
  {
   "cell_type": "code",
   "execution_count": 1,
   "id": "21d5df51",
   "metadata": {},
   "outputs": [],
   "source": [
    "import mysql.connector\n",
    "from datetime import datetime"
   ]
  },
  {
   "cell_type": "code",
   "execution_count": 282,
   "id": "26193e58",
   "metadata": {},
   "outputs": [],
   "source": [
    "#for database2\n",
    "def mydbconnection2():\n",
    "    mydb2 = mysql.connector.connect(\n",
    "    host = \"byz19nyssb8zeazrb181-mysql.services.clever-cloud.com\",\n",
    "    user = \"uf1dkuns8obh9mjm\",\n",
    "    password = \"AuIS6JIebDMnPCRsSoGx\",\n",
    "    database = \"byz19nyssb8zeazrb181\"\n",
    "    )\n",
    "    return mydb2"
   ]
  },
  {
   "cell_type": "code",
   "execution_count": 279,
   "id": "64fdb0ea",
   "metadata": {},
   "outputs": [],
   "source": [
    "mycursor2 = mydb2.cursor()"
   ]
  },
  {
   "cell_type": "code",
   "execution_count": 195,
   "id": "6de7863b",
   "metadata": {},
   "outputs": [
    {
     "name": "stdout",
     "output_type": "stream",
     "text": [
      "('cardtranslog',)\n",
      "('citibank',)\n",
      "('scbank',)\n"
     ]
    }
   ],
   "source": [
    "mycursor2.execute(\"SHOW TABLES\")\n",
    "for table in mycursor2:\n",
    "    print(table)"
   ]
  },
  {
   "cell_type": "markdown",
   "id": "3212d75c",
   "metadata": {},
   "source": [
    "### Depositing money from scbank "
   ]
  },
  {
   "cell_type": "code",
   "execution_count": 169,
   "id": "191064d7",
   "metadata": {},
   "outputs": [
    {
     "name": "stdout",
     "output_type": "stream",
     "text": [
      "enter the account number\n",
      "1045\n"
     ]
    }
   ],
   "source": [
    "#dipositing money in scbank\n",
    "print(\"enter the account number\")\n",
    "account_no = int(input())"
   ]
  },
  {
   "cell_type": "code",
   "execution_count": 196,
   "id": "eade2405",
   "metadata": {},
   "outputs": [],
   "source": [
    "mycursor2.execute(\"select accno from scbank  \")"
   ]
  },
  {
   "cell_type": "code",
   "execution_count": 197,
   "id": "26657c3f",
   "metadata": {},
   "outputs": [
    {
     "name": "stdout",
     "output_type": "stream",
     "text": [
      "1045 is exists\n"
     ]
    }
   ],
   "source": [
    "flag = 0\n",
    "for row in mycursor2:\n",
    "    for i in row:\n",
    "        if i == account_no:\n",
    "            print(\"{} is exists\".format(account_no))\n",
    "            flag = 1\n",
    "if flag == 0:\n",
    "    print(\"{} is does not exists\".format(account_no))"
   ]
  },
  {
   "cell_type": "code",
   "execution_count": 2,
   "id": "2aa2fd8d",
   "metadata": {
    "scrolled": true
   },
   "outputs": [
    {
     "name": "stdout",
     "output_type": "stream",
     "text": [
      "enter amount :\n",
      "1000\n",
      "2023-07-07 00:25:07\n",
      "Deposited successfully\n"
     ]
    }
   ],
   "source": [
    "flag=1\n",
    "if flag==1:\n",
    "    print(\"enter amount :\")\n",
    "    amount = int(input())\n",
    "    sql = \"UPDATE scbank SET balance = %s+balance WHERE accno = %s\"\n",
    "    val = (amount,account_no)\n",
    "    mycursor2.execute(sql, val)\n",
    "    now = datetime.now()\n",
    "    formatted_date = now.strftime('%Y-%m-%d %H:%M:%S')\n",
    "    print(formatted_date)\n",
    "    mycursor2.execute(\"insert into cardtranslog(transdt,accno,amount) values(%s,%s,%s)\",(formatted_date,account_no,amount))\n",
    "    mydb2.commit()\n",
    "    print(\"Deposited successfully\")\n",
    "flag = 0"
   ]
  },
  {
   "cell_type": "code",
   "execution_count": 207,
   "id": "bb0d754e",
   "metadata": {},
   "outputs": [
    {
     "name": "stdout",
     "output_type": "stream",
     "text": [
      "(1045, 'steven', 'saving', 84500.0, '1023456789')\n"
     ]
    }
   ],
   "source": [
    "mycursor2.execute(\"select * from scbank WHERE accno = {}\".format(account_no))\n",
    "for row in mycursor2:\n",
    "    print(row)"
   ]
  },
  {
   "cell_type": "code",
   "execution_count": 212,
   "id": "8beda31a",
   "metadata": {},
   "outputs": [
    {
     "name": "stdout",
     "output_type": "stream",
     "text": [
      "(3, datetime.datetime(2022, 8, 7, 13, 4, 3), 1045, 1000.0)\n",
      "(4, datetime.datetime(2022, 8, 7, 13, 4, 3), 1045, -10000.0)\n"
     ]
    }
   ],
   "source": [
    "mycursor2.execute(\"select * from cardtranslog WHERE accno = {}\".format(account_no))\n",
    "for row in mycursor2:\n",
    "    print(row)"
   ]
  },
  {
   "cell_type": "markdown",
   "id": "91df7863",
   "metadata": {},
   "source": [
    "### Withdrawing money from scbank"
   ]
  },
  {
   "cell_type": "code",
   "execution_count": 208,
   "id": "fa2117b8",
   "metadata": {},
   "outputs": [
    {
     "name": "stdout",
     "output_type": "stream",
     "text": [
      "enter the account number\n",
      "1045\n"
     ]
    }
   ],
   "source": [
    "print(\"enter the account number\")\n",
    "account_no = int(input())"
   ]
  },
  {
   "cell_type": "code",
   "execution_count": 209,
   "id": "43cb2950",
   "metadata": {},
   "outputs": [],
   "source": [
    "mycursor2.execute(\"select accno from scbank  \")"
   ]
  },
  {
   "cell_type": "code",
   "execution_count": 210,
   "id": "302147ac",
   "metadata": {},
   "outputs": [
    {
     "name": "stdout",
     "output_type": "stream",
     "text": [
      "1045 is exists\n"
     ]
    }
   ],
   "source": [
    "flag = 0\n",
    "for row in mycursor2:\n",
    "    for i in row:\n",
    "        if i == account_no:\n",
    "            print(\"{} is exists\".format(account_no))\n",
    "            flag = 1\n",
    "if flag == 0:\n",
    "    print(\"{} is does not exists\".format(account_no))"
   ]
  },
  {
   "cell_type": "code",
   "execution_count": 211,
   "id": "30222d22",
   "metadata": {},
   "outputs": [
    {
     "name": "stdout",
     "output_type": "stream",
     "text": [
      "enter amount :\n",
      "10000\n",
      "Balance Left : 74500.0\n",
      "2022-08-07 13:04:03\n",
      "withdrwned successfully\n"
     ]
    }
   ],
   "source": [
    "if flag==1:\n",
    "    print(\"enter amount :\")\n",
    "    amount = int(input())\n",
    "    mycursor2.execute(\"select balance from scbank WHERE accno = {}\".format(account_no))\n",
    "    for row in mycursor2:\n",
    "        for bal in row :\n",
    "            if bal-amount > 100:\n",
    "                sql = \"UPDATE scbank SET balance = balance- %s WHERE accno = %s\"\n",
    "                val = (amount,account_no)\n",
    "                mycursor2.execute(sql, val)\n",
    "                print(\"Balance Left : {}\".format(bal-amount))\n",
    "                formatted_date = now.strftime('%Y-%m-%d %H:%M:%S')\n",
    "                print(formatted_date)\n",
    "                mycursor2.execute(\"insert into cardtranslog(transdt,accno,amount) values(%s,%s,%s)\",(formatted_date,account_no,-amount))\n",
    "                mydb2.commit()\n",
    "                print(\"withdrwned successfully\")\n",
    "            else :\n",
    "                print(\"insufficient amount \")\n",
    "flag = 0"
   ]
  },
  {
   "cell_type": "markdown",
   "id": "528c781f",
   "metadata": {},
   "source": [
    "### Depositing money in scbank using card"
   ]
  },
  {
   "cell_type": "code",
   "execution_count": 285,
   "id": "6bf05e02",
   "metadata": {},
   "outputs": [
    {
     "name": "stdout",
     "output_type": "stream",
     "text": [
      "enter the creditcardno. number\n",
      "589938612\n"
     ]
    }
   ],
   "source": [
    "print(\"enter the creditcardno. number\")\n",
    "credit_no = int(input())"
   ]
  },
  {
   "cell_type": "code",
   "execution_count": 286,
   "id": "2fbeccae",
   "metadata": {},
   "outputs": [],
   "source": [
    "def mydbconnection1():\n",
    "    mydb1 = mysql.connector.connect(\n",
    "    host = \"byjswena0s99ise1usfy-mysql.services.clever-cloud.com\",\n",
    "    user = \"upqvs3wbh9koczin\",\n",
    "    password = \"2T8F4SsnxHhfjphLh22W\",\n",
    "    database = \"byjswena0s99ise1usfy\"\n",
    "    )\n",
    "    return mydb1"
   ]
  },
  {
   "cell_type": "code",
   "execution_count": 295,
   "id": "f9e0baa1",
   "metadata": {},
   "outputs": [],
   "source": [
    "mydb1 =mydbconnection1()\n",
    "mycursor1 = mydb1.cursor()"
   ]
  },
  {
   "cell_type": "code",
   "execution_count": 296,
   "id": "e0f0133a",
   "metadata": {},
   "outputs": [
    {
     "name": "stdout",
     "output_type": "stream",
     "text": [
      "('creditcards',)\n",
      "('paymentlog',)\n"
     ]
    }
   ],
   "source": [
    "mycursor1.execute(\"SHOW TABLES\")\n",
    "for table in mycursor1:\n",
    "    print(table)"
   ]
  },
  {
   "cell_type": "code",
   "execution_count": 297,
   "id": "f78a8d42",
   "metadata": {},
   "outputs": [],
   "source": [
    "mycursor1.execute(\"select cardno,mappedaccno from creditcards \")"
   ]
  },
  {
   "cell_type": "code",
   "execution_count": 298,
   "id": "0672a3c1",
   "metadata": {},
   "outputs": [
    {
     "name": "stdout",
     "output_type": "stream",
     "text": [
      "589938612 is exists\n",
      "account number is 1011\n"
     ]
    }
   ],
   "source": [
    "flag = 0\n",
    "accno = 0\n",
    "for row in mycursor1:\n",
    "    if int(row[0]) == credit_no:\n",
    "        print(\"{} is exists\".format(credit_no))\n",
    "        accno = row[1]\n",
    "        print(\"account number is {}\".format(accno))\n",
    "        flag = 1\n",
    "if flag == 0:\n",
    "    print(\"{} is does not exists\".format(credit_no))"
   ]
  },
  {
   "cell_type": "code",
   "execution_count": 299,
   "id": "faa53ba3",
   "metadata": {},
   "outputs": [],
   "source": [
    "def deposite(credit_no,bankname,account_no):\n",
    "    print(\"enter amount :\")\n",
    "    amount = int(input())\n",
    "    sql = \"UPDATE {} SET balance = %s+balance WHERE accno = %s\".format(bankname)\n",
    "    val = (amount,account_no)\n",
    "    temp_cursor.execute(sql, val)\n",
    "    now = datetime.now()\n",
    "    formatted_date = now.strftime('%Y-%m-%d %H:%M:%S')\n",
    "    print(formatted_date)\n",
    "    temp_cursor.execute(\"insert into cardtranslog(transdt,accno,amount) values(%s,%s,%s)\",(formatted_date,account_no,amount))\n",
    "    temp_mydb2.commit()\n",
    "    print(\"Diposited successfully\")\n",
    "    tempdb1 = mydbconnection1()\n",
    "    temp_cursor1 = tempdb1.cursor()\n",
    "    temp_cursor1.execute(\"insert into paymentlog(cardno,transdt,purpose,paymentamount) values(%s,%s,%s,%s)\",(credit_no,formatted_date,\"transfer\",amount))\n",
    "    tempdb1.commit()"
   ]
  },
  {
   "cell_type": "code",
   "execution_count": 300,
   "id": "871a2231",
   "metadata": {},
   "outputs": [
    {
     "name": "stdout",
     "output_type": "stream",
     "text": [
      "enter the pin\n",
      "6434\n",
      "enter amount :\n",
      "1000\n",
      "2022-08-07 15:38:04\n",
      "Diposited successfully\n"
     ]
    }
   ],
   "source": [
    "if flag ==1:\n",
    "    print(\"enter the pin\")\n",
    "    pin = int(input())\n",
    "    mycursor1.execute(\"select pin from creditcards where cardno = {}\".format(credit_no))\n",
    "    for row in mycursor1:\n",
    "        if row[0] ==pin :\n",
    "            \n",
    "            temp_mydb2 = mydbconnection2()\n",
    "            temp_cursor = temp_mydb2.cursor()\n",
    "            found=0\n",
    "            temp_cursor.execute(\"select accno from citibank\")\n",
    "            for tup in temp_cursor:\n",
    "                if tup[0] == accno:\n",
    "                    found = 1\n",
    "                    deposite(credit_no,\"citibank\",accno)\n",
    "            if found == 0:\n",
    "                temp_cursor.execute(\"select accno from scbank\")\n",
    "                for tup in temp_cursor:\n",
    "                    if tup[0] == accno:\n",
    "                        found = 1\n",
    "                        deposite(credit_no,\"scbank\",accno)\n",
    "            if found==0 :\n",
    "                print(\"coundn't found account number\")\n",
    "                \n",
    "                \n",
    "                    \n",
    "                \n",
    "                            \n",
    "                \n",
    "                "
   ]
  },
  {
   "cell_type": "code",
   "execution_count": 306,
   "id": "c9f93a55",
   "metadata": {},
   "outputs": [],
   "source": [
    "def show_rows_of_citibank():\n",
    "    temp_mydb2 = mydbconnection2()\n",
    "    temp_cursor = temp_mydb2.cursor()\n",
    "    temp_cursor.execute(\"select * from citibank \")\n",
    "    for row in temp_cursor:\n",
    "        print(row)"
   ]
  },
  {
   "cell_type": "code",
   "execution_count": 307,
   "id": "94b2d920",
   "metadata": {},
   "outputs": [
    {
     "name": "stdout",
     "output_type": "stream",
     "text": [
      "(1011, 'steven', 'saving', 3500.0, '1023456789')\n"
     ]
    }
   ],
   "source": [
    "show_rows_of_citibank()"
   ]
  },
  {
   "cell_type": "code",
   "execution_count": null,
   "id": "53a5378d",
   "metadata": {},
   "outputs": [],
   "source": [
    "# class database_handler():\n",
    "#     def __init__(self):\n",
    "#         mydb1 = None\n",
    "#         mydb2 = None\n",
    "#     def connection_database1(self):\n",
    "#         mydb1 = mydb1 = mysql.connector.connect(\n",
    "#                 host = \"byjswena0s99ise1usfy-mysql.services.clever-cloud.com\",\n",
    "#                 user = \"upqvs3wbh9koczin\",\n",
    "#                 password = \"2T8F4SsnxHhfjphLh22W\",\n",
    "#                 database = \"byjswena0s99ise1usfy\"\n",
    "#                 )\n",
    "#         return mydb1\n",
    "#     def connection_database2():\n",
    "#         mydb2 = mysql.connector.connect(\n",
    "#                 host = \"byz19nyssb8zeazrb181-mysql.services.clever-cloud.com\",\n",
    "#                 user = \"uf1dkuns8obh9mjm\",\n",
    "#                 password = \"AuIS6JIebDMnPCRsSoGx\",\n",
    "#                 database = \"byz19nyssb8zeazrb181\"\n",
    "#                 )\n",
    "#         return mydb1\n",
    "\n",
    "        "
   ]
  }
 ],
 "metadata": {
  "kernelspec": {
   "display_name": "Python 3 (ipykernel)",
   "language": "python",
   "name": "python3"
  },
  "language_info": {
   "codemirror_mode": {
    "name": "ipython",
    "version": 3
   },
   "file_extension": ".py",
   "mimetype": "text/x-python",
   "name": "python",
   "nbconvert_exporter": "python",
   "pygments_lexer": "ipython3",
   "version": "3.9.7"
  }
 },
 "nbformat": 4,
 "nbformat_minor": 5
}
